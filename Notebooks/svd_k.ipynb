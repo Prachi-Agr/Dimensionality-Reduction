{
 "cells": [
  {
   "cell_type": "code",
   "execution_count": null,
   "metadata": {},
   "outputs": [],
   "source": [
    "## Importing packages\n",
    "\n",
    "# This R environment comes with all of CRAN and many other helpful packages preinstalled.\n",
    "# You can see which packages are installed by checking out the kaggle/rstats docker image: \n",
    "# https://github.com/kaggle/docker-rstats\n",
    "\n",
    "library(tidyverse) # metapackage with lots of helpful functions\n",
    "\n",
    "## Running code\n",
    "\n",
    "# In a notebook, you can run a single code cell by clicking in the cell and then hitting \n",
    "# the blue arrow to the left, or by clicking in the cell and pressing Shift+Enter. In a script, \n",
    "# you can run code by highlighting the code you want to run and then clicking the blue arrow\n",
    "# at the bottom of this window.\n",
    "\n",
    "## Reading in files\n",
    "\n",
    "# You can access files from datasets you've added to this kernel in the \"../input/\" directory.\n",
    "# You can see the files added to this kernel by running the code below. \n",
    "\n",
    "list.files(path = \"../input\")\n",
    "\n",
    "## Saving data\n",
    "\n",
    "# If you save any files or images, these will be put in the \"output\" directory. You \n",
    "# can see the output directory by committing and running your kernel (using the \n",
    "# Commit & Run button) and then checking out the compiled version of your kernel."
   ]
  },
  {
   "cell_type": "code",
   "execution_count": null,
   "metadata": {},
   "outputs": [],
   "source": [
    "dat <- read_csv(\"../input/kavya/iris.csv\")"
   ]
  },
  {
   "cell_type": "code",
   "execution_count": null,
   "metadata": {},
   "outputs": [],
   "source": []
  },
  {
   "cell_type": "code",
   "execution_count": null,
   "metadata": {},
   "outputs": [],
   "source": [
    "dat<-as.matrix(dat)\n",
    "svd.mod <- svd(dat)\n",
    "U <- dat %*%  svd.mod$v  %*% diag(1./svd.mod$d)"
   ]
  },
  {
   "cell_type": "code",
   "execution_count": null,
   "metadata": {},
   "outputs": [],
   "source": [
    "U.reduced <-dat %*% svd.mod$v[,1:7,drop=FALSE] %*% diag((svd.mod$d)[1:7,drop=FALSE])\n",
    "typeof(U.reduced)\n",
    "U.reduced"
   ]
  },
  {
   "cell_type": "code",
   "execution_count": null,
   "metadata": {},
   "outputs": [],
   "source": [
    "dimReduce <- function(x, k=floor(ncol(x)/2), supplemental.cols=NULL) {\n",
    "  colIdxs <- which(colnames(x) %in% supplemental.cols)\n",
    "  colNames <- names(x[,-colIdxs])\n",
    "  sol <- svd(x[,-colIdxs])\n",
    "  sol.U <- as.matrix(x[,-colIdxs]) %*% (sol$v)[,1:k,drop=FALSE] %*% \n",
    "                          diag((sol$d)[1:k,drop=FALSE])\n",
    "  sol.U = sol.U@data\n",
    "  res <- cbind(sol.U,x[,colIdxs,drop=FALSE])\n",
    "  names(res) <- c(names(sol.U@data),names(x[,colIdxs]))\n",
    "  res\n",
    "}"
   ]
  },
  {
   "cell_type": "code",
   "execution_count": null,
   "metadata": {},
   "outputs": [],
   "source": [
    "dat <- read_csv(\"../input/kavya/iris.csv\")\n",
    "dat$ID <- seq_len(nrow(dat))\n",
    "ore.drop(\"IRIS2\")\n",
    "ore.create(dat,table=\"IRIS2\")\n",
    "row.names(IRIS2) <- IRIS2$ID\n",
    "IRIS2[1:5,]"
   ]
  },
  {
   "cell_type": "code",
   "execution_count": null,
   "metadata": {},
   "outputs": [],
   "source": [
    "IRIS2.reduced <- dimReduce(IRIS2, 2, supplemental.cols=c(\"ID\",\"Species\"))\n",
    "dim(IRIS2.reduced) "
   ]
  },
  {
   "cell_type": "code",
   "execution_count": null,
   "metadata": {},
   "outputs": [],
   "source": [
    "library(rpart)\n",
    "m1 <- rpart(Species~.,iris)\n",
    "res1 <- predict(m1,iris,type=\"class\")\n",
    "table(res1,iris$Species)\n",
    "dat2 <- ore.pull(IRIS2.reduced)\n",
    "m2 <- rpart(Species~.-ID,dat2)\n",
    "res2 <- predict(m2,dat2,type=\"class\")\n",
    "table(res2,iris$Species)"
   ]
  },
  {
   "cell_type": "code",
   "execution_count": null,
   "metadata": {},
   "outputs": [],
   "source": [
    "m2.1 <- ore.odmDT(Species~.-ID, IRIS2.reduced)\n",
    "res2.1 <- predict(m2.1,IRIS2.reduced,type=\"class\",supplemental.cols = \"Species\")\n",
    "table(res2.1$PREDICTION, res2.1$Species)"
   ]
  }
 ],
 "metadata": {
  "kernelspec": {
   "display_name": "Python 3",
   "language": "python",
   "name": "python3"
  },
  "language_info": {
   "codemirror_mode": {
    "name": "ipython",
    "version": 3
   },
   "file_extension": ".py",
   "mimetype": "text/x-python",
   "name": "python",
   "nbconvert_exporter": "python",
   "pygments_lexer": "ipython3",
   "version": "3.7.0"
  }
 },
 "nbformat": 4,
 "nbformat_minor": 2
}
